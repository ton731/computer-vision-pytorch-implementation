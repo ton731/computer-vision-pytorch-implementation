{
 "cells": [
  {
   "cell_type": "code",
   "execution_count": null,
   "metadata": {},
   "outputs": [],
   "source": [
    "import torch\n",
    "import torch.nn as nn\n",
    "import torch.nn.functional as F\n",
    "import torch.optim as optim\n",
    "from torchvision import datasets, transforms\n",
    "from torch.autograd import Variable\n",
    "from torchvision.utils import save_image\n",
    "from tqdm import tqdm"
   ]
  },
  {
   "cell_type": "code",
   "execution_count": null,
   "metadata": {},
   "outputs": [],
   "source": [
    "# dataset and loader\n",
    "# MNIST\n",
    "train_dataset = datasets.MNIST(root=\"./mnist_data/\", train=True, transform=transforms.ToTensor(), download=True)\n",
    "test_dataset = datasets.MNIST(root=\"./mnist_data/\", train=False, transform=transforms.ToTensor(), download=False)\n",
    "\n",
    "# dataloader\n",
    "batch_size = 16\n",
    "train_loader = torch.utils.data.DataLoader(dataset=train_dataset, batch_size=batch_size, shuffle=True)\n",
    "test_loader = torch.utils.data.DataLoader(dataset=test_dataset, batch_size=batch_size, shuffle=False)"
   ]
  },
  {
   "cell_type": "code",
   "execution_count": null,
   "metadata": {},
   "outputs": [],
   "source": [
    "class VAE(nn.Module):\n",
    "\n",
    "    def __init__(self, x_dim, z_dim):\n",
    "        super().__init__()\n",
    "\n",
    "        self.x_dim = x_dim\n",
    "        self.z_dim = z_dim\n",
    "\n",
    "        # encoder\n",
    "        self.fc_enc = nn.Linear(x_dim, 512)\n",
    "        self.fc_mu = nn.Linear(512, z_dim)\n",
    "        self.fc_log_var = nn.Linear(512, z_dim)\n",
    "\n",
    "        # decoder\n",
    "        self.fc_dec = nn.Sequential(\n",
    "            nn.Linear(z_dim, 512),\n",
    "            nn.ReLU(),\n",
    "            nn.Linear(512, x_dim),\n",
    "            nn.Sigmoid(),\n",
    "        )\n",
    "\n",
    "    def encode(self, x):\n",
    "        x = torch.flatten(x, start_dim=2)\n",
    "        x = self.fc_enc(x)\n",
    "        mu = self.fc_mu(x)\n",
    "        log_var = self.fc_log_var(x)\n",
    "        return mu, log_var\n",
    "    \n",
    "    def decode(self, z):\n",
    "        return self.fc_dec(z)\n",
    "    \n",
    "    def reparameterize(self, mu, log_var):\n",
    "        std = torch.exp(0.5 * log_var)\n",
    "        eps = torch.randn_like(std)\n",
    "        return mu + eps * std\n",
    "    \n",
    "    def forward(self, x):\n",
    "        mu, log_var = self.encode(x)\n",
    "        z = self.reparameterize(mu, log_var)\n",
    "        recon_x = self.decode(z)\n",
    "        return recon_x, x, mu, log_var\n",
    "    \n",
    "    def loss_function(self, recon_x, x, mu, log_var):\n",
    "        kld_weight = 1\n",
    "        recon_loss = F.mse_loss(recon_x, x.view(-1, 784))\n",
    "        kld_loss = -0.5 * torch.sum(1 + log_var - mu ** 2 - log_var.exp())\n",
    "        loss = recon_loss + kld_weight * kld_loss\n",
    "        return {'loss': loss, 'reconstruction_loss': recon_loss, 'KLD': -kld_loss}\n",
    "    \n",
    "    def sample(self, num_samples, device):\n",
    "        z = torch.randn(num_samples, self.z_dim).to(device)\n",
    "        samples = self.decode(z)\n",
    "        return samples\n",
    "    \n",
    "    def generate(self, x):\n",
    "        return self.forward(x)[0]\n"
   ]
  },
  {
   "cell_type": "code",
   "execution_count": null,
   "metadata": {},
   "outputs": [],
   "source": [
    "device = \"cuda\" if torch.cuda.is_available() else \"cpu\"\n",
    "model = VAE(x_dim=784, z_dim=2).to(device)\n",
    "print(model)"
   ]
  },
  {
   "cell_type": "code",
   "execution_count": null,
   "metadata": {},
   "outputs": [],
   "source": [
    "# settings of training\n",
    "optimizer = optim.Adam(model.parameters(), lr=1e-3)\n",
    "num_epoch = 50"
   ]
  },
  {
   "cell_type": "code",
   "execution_count": null,
   "metadata": {},
   "outputs": [],
   "source": [
    "def train(epoch):\n",
    "    model.train()\n",
    "    train_loss = 0\n",
    "    for i, (x, _) in tqdm(enumerate(train_loader)):\n",
    "        x = x.to(device)\n",
    "        recon_x, x, mu, log_var = model(x)\n",
    "        \n",
    "        loss = model.loss_function(recon_x, x, mu, log_var)[\"loss\"]\n",
    "        optimizer.zero_grad()\n",
    "        loss.backward()\n",
    "        optimizer.step()\n",
    "        train_loss += loss.item()\n",
    "    \n",
    "    print(f\"Epoch: {epoch:3d}, loss: {train_loss / len(train_loader.dataset):.3f}\")"
   ]
  },
  {
   "cell_type": "code",
   "execution_count": null,
   "metadata": {},
   "outputs": [],
   "source": [
    "def test():\n",
    "    model.eval()\n",
    "    test_loss = 0\n",
    "    with torch.no_grad():\n",
    "        for x, _ in test_loader:\n",
    "            x = x.to(device)\n",
    "            recon_x, x, mu, log_var = model(x)\n",
    "            test_loss += model.loss_function(recon_x, x, mu, log_var)[\"loss\"]\n",
    "    \n",
    "    print(f\"---> Test loss: {test_loss / len(test_loader.dataset):.3f}\")"
   ]
  },
  {
   "cell_type": "code",
   "execution_count": null,
   "metadata": {},
   "outputs": [],
   "source": [
    "for epoch in range(1, num_epoch+1):\n",
    "    train(epoch)\n",
    "    test()"
   ]
  },
  {
   "cell_type": "code",
   "execution_count": null,
   "metadata": {},
   "outputs": [],
   "source": []
  }
 ],
 "metadata": {
  "kernelspec": {
   "display_name": "pytorch",
   "language": "python",
   "name": "python3"
  },
  "language_info": {
   "codemirror_mode": {
    "name": "ipython",
    "version": 3
   },
   "file_extension": ".py",
   "mimetype": "text/x-python",
   "name": "python",
   "nbconvert_exporter": "python",
   "pygments_lexer": "ipython3",
   "version": "3.7.12"
  },
  "orig_nbformat": 4,
  "vscode": {
   "interpreter": {
    "hash": "f5b916051ec391ef3c1c0123575e59cad2c35863d294dd079abc5845c0e5babb"
   }
  }
 },
 "nbformat": 4,
 "nbformat_minor": 2
}
